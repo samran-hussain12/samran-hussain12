{
 "cells": [
  {
   "cell_type": "code",
   "execution_count": 2,
   "metadata": {},
   "outputs": [
    {
     "name": "stderr",
     "output_type": "stream",
     "text": [
      "c:\\Users\\SAMRAN HUSSAIN\\anaconda3\\envs\\ydata_profiling\\lib\\site-packages\\tqdm\\auto.py:21: TqdmWarning: IProgress not found. Please update jupyter and ipywidgets. See https://ipywidgets.readthedocs.io/en/stable/user_install.html\n",
      "  from .autonotebook import tqdm as notebook_tqdm\n"
     ]
    }
   ],
   "source": [
    "#import the libraries\n",
    "import pandas as pd\n",
    "import numpy as np\n",
    "import matplotlib.pyplot as plt\n",
    "import seaborn as sns\n",
    "import ydata_profiling as yd"
   ]
  },
  {
   "cell_type": "code",
   "execution_count": 4,
   "metadata": {},
   "outputs": [],
   "source": [
    "#import data \n",
    "data = pd.read_csv('titanic.csv')"
   ]
  },
  {
   "cell_type": "code",
   "execution_count": 7,
   "metadata": {},
   "outputs": [
    {
     "name": "stderr",
     "output_type": "stream",
     "text": [
      "Summarize dataset: 100%|██████████| 47/47 [00:15<00:00,  3.06it/s, Completed]                       \n",
      "Generate report structure: 100%|██████████| 1/1 [00:13<00:00, 13.34s/it]\n",
      "Render HTML: 100%|██████████| 1/1 [00:03<00:00,  3.17s/it]\n",
      "Export report to file: 100%|██████████| 1/1 [00:00<00:00, 22.22it/s]\n"
     ]
    }
   ],
   "source": [
    "#profile the data \n",
    "Profile=yd.ProfileReport(data)\n",
    "Profile.to_file(output_file='titanic.html')"
   ]
  }
 ],
 "metadata": {
  "kernelspec": {
   "display_name": "ydata_profiling",
   "language": "python",
   "name": "python3"
  },
  "language_info": {
   "codemirror_mode": {
    "name": "ipython",
    "version": 3
   },
   "file_extension": ".py",
   "mimetype": "text/x-python",
   "name": "python",
   "nbconvert_exporter": "python",
   "pygments_lexer": "ipython3",
   "version": "3.10.16"
  }
 },
 "nbformat": 4,
 "nbformat_minor": 2
}
